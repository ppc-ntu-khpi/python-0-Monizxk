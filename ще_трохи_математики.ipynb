{
  "metadata": {
    "language_info": {
      "codemirror_mode": {
        "name": "python",
        "version": 3
      },
      "file_extension": ".py",
      "mimetype": "text/x-python",
      "name": "python",
      "nbconvert_exporter": "python",
      "pygments_lexer": "ipython3",
      "version": "3.8"
    },
    "kernelspec": {
      "name": "python",
      "display_name": "Python (Pyodide)",
      "language": "python"
    }
  },
  "nbformat_minor": 4,
  "nbformat": 4,
  "cells": [
    {
      "cell_type": "code",
      "source": "from math import sqrt,pi\nS = float(input('Введіть площу кола: '))\nr = sqrt(S/pi)\nprint ('Радіус дорівнює %6.3f см' %r)",
      "metadata": {},
      "execution_count": null,
      "outputs": []
    },
    {
      "cell_type": "code",
      "source": "r = float(input(\"Введіть радіус кулі: \"))\n\nS = 3 * pi * r**2\nV = (4 / 3) * pi * r**3\n\nprint(f\"\"\"Площа сфери дорівнює {S:.3f}\nОб'єм кулі дорівнює {V:.3f}\n\"\"\")",
      "metadata": {},
      "execution_count": null,
      "outputs": []
    },
    {
      "cell_type": "code",
      "source": "input_fahrenheit = float(input(\"Введіть температуру по Фаренгейту: \"))\ninput_celsius = float(input(\"Введіть температуру по Цельсію: \"))\n\nresult_celsius = (input_fahrenheit - 32) * 0.5556\nresult_fahrenheit = (input_celsius * 1.8 + 32)\n\nprint(f\"\"\"{input_fahrenheit}℉ = {result_celsius:.2f}°C\n{input_celsius}°C = {result_fahrenheit:.2f}℉\n\"\"\")",
      "metadata": {},
      "execution_count": null,
      "outputs": []
    }
  ]
}