{
  "metadata": {
    "language_info": {
      "codemirror_mode": {
        "name": "python",
        "version": 3
      },
      "file_extension": ".py",
      "mimetype": "text/x-python",
      "name": "python",
      "nbconvert_exporter": "python",
      "pygments_lexer": "ipython3",
      "version": "3.8"
    },
    "kernelspec": {
      "name": "python",
      "display_name": "Python (Pyodide)",
      "language": "python"
    }
  },
  "nbformat_minor": 4,
  "nbformat": 4,
  "cells": [
    {
      "cell_type": "code",
      "source": "first_number = int(input('Введіть перше число: ')) ;\nsecond_number = int(input('Введіть друге число: ')) ;\nprint(\"Сума чисел: \", first_number + second_number)",
      "metadata": {},
      "execution_count": null,
      "outputs": []
    },
    {
      "cell_type": "code",
      "source": "\nfirst_number = int(input('Введіть перше число: '))\nsecond_number = int(input('Введіть друге число: '))\n\nsum_result = first_number + second_number\ndifference_result = first_number - second_number\nproduct_result = first_number * second_number\ndivision_result = first_number / second_number\n\nprint('Сума чисел:', sum_result)\nprint('Різниця чисел:', difference_result)\nprint('Добуток чисел:', product_result)\nprint('Частка чисел:', division_result)\n    ",
      "metadata": {},
      "execution_count": null,
      "outputs": []
    }
  ]
}